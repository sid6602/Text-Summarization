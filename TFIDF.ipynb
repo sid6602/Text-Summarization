{
 "cells": [
  {
   "cell_type": "code",
   "execution_count": 110,
   "id": "21ec3af1",
   "metadata": {},
   "outputs": [],
   "source": [
    "import pandas as pd\n",
    "import nltk\n",
    "import re\n",
    "from nltk import sent_tokenize,word_tokenize,PorterStemmer\n",
    "from nltk.corpus import stopwords\n",
    "stopWords =set(stopwords.words(\"english\"))\n",
    "ps=PorterStemmer()\n",
    "import math"
   ]
  },
  {
   "cell_type": "code",
   "execution_count": 15,
   "id": "9989f275",
   "metadata": {},
   "outputs": [
    {
     "name": "stderr",
     "output_type": "stream",
     "text": [
      "[nltk_data] Downloading package punkt to\n",
      "[nltk_data]     C:\\Users\\Siddhi\\AppData\\Roaming\\nltk_data...\n",
      "[nltk_data]   Unzipping tokenizers\\punkt.zip.\n"
     ]
    },
    {
     "data": {
      "text/plain": [
       "True"
      ]
     },
     "execution_count": 15,
     "metadata": {},
     "output_type": "execute_result"
    }
   ],
   "source": [
    "import nltk\n",
    "nltk.download('punkt')"
   ]
  },
  {
   "cell_type": "code",
   "execution_count": 137,
   "id": "a7e86b43",
   "metadata": {},
   "outputs": [],
   "source": [
    "text= open(\"C:/Users/Siddhi/Desktop/data.txt\",\"r\",encoding='utf-8')"
   ]
  },
  {
   "cell_type": "code",
   "execution_count": 138,
   "id": "877c4e79",
   "metadata": {},
   "outputs": [],
   "source": [
    "text1=str(text.read())"
   ]
  },
  {
   "cell_type": "code",
   "execution_count": 139,
   "id": "3cb34638",
   "metadata": {},
   "outputs": [],
   "source": [
    "sent=\"samir likes to play cricket everyday because he likes cricket so much. ajay is going to his home to play cricket\";"
   ]
  },
  {
   "cell_type": "code",
   "execution_count": 140,
   "id": "a5d4ea90",
   "metadata": {},
   "outputs": [],
   "source": [
    "def frequency_table(text):\n",
    "    words=word_tokenize(text)\n",
    "    word_freq=dict()\n",
    "    for x in words:\n",
    "        x=ps.stem(x.lower())\n",
    "        if(x not in stopWords) and (len(x)>2):\n",
    "            if x not in word_freq.keys():\n",
    "                word_freq[x]=1\n",
    "            else:\n",
    "                word_freq[x]+=1\n",
    "    return word_freq"
   ]
  },
  {
   "cell_type": "code",
   "execution_count": 141,
   "id": "100e1252",
   "metadata": {},
   "outputs": [
    {
     "data": {
      "text/plain": [
       "{'samir': 1,\n",
       " 'like': 2,\n",
       " 'play': 2,\n",
       " 'cricket': 3,\n",
       " 'everyday': 1,\n",
       " 'becaus': 1,\n",
       " 'much': 1,\n",
       " 'ajay': 1,\n",
       " 'home': 1}"
      ]
     },
     "execution_count": 141,
     "metadata": {},
     "output_type": "execute_result"
    }
   ],
   "source": [
    "frequency_table(sent)"
   ]
  },
  {
   "cell_type": "code",
   "execution_count": 142,
   "id": "d0f00466",
   "metadata": {},
   "outputs": [],
   "source": [
    "def frequency_matrix(sentences):\n",
    "    frequency_matrix=dict()\n",
    "    for sent in sent_tokenize(sentences):\n",
    "        frequency_matrix[sent[:15]]=frequency_table(sent)\n",
    "    return frequency_matrix"
   ]
  },
  {
   "cell_type": "code",
   "execution_count": 143,
   "id": "badc67d1",
   "metadata": {},
   "outputs": [
    {
     "data": {
      "text/plain": [
       "{'samir likes to ': {'samir': 1,\n",
       "  'like': 2,\n",
       "  'play': 1,\n",
       "  'cricket': 2,\n",
       "  'everyday': 1,\n",
       "  'becaus': 1,\n",
       "  'much': 1},\n",
       " 'ajay is going t': {'ajay': 1, 'home': 1, 'play': 1, 'cricket': 1}}"
      ]
     },
     "execution_count": 143,
     "metadata": {},
     "output_type": "execute_result"
    }
   ],
   "source": [
    "freq_matrix=frequency_matrix(sent)\n",
    "freq_matrix"
   ]
  },
  {
   "cell_type": "code",
   "execution_count": 144,
   "id": "fbf2902d",
   "metadata": {},
   "outputs": [],
   "source": [
    " def tf_matrix(freq_matrix):\n",
    "        tf_matrix={}\n",
    "        for sent,freq_table in freq_matrix.items():\n",
    "            tf_table={}\n",
    "            ft_len=len(freq_table)\n",
    "            for Dict in freq_table.keys():\n",
    "                tf_table[Dict]=round(freq_table[Dict]/ft_len,2)\n",
    "            tf_matrix[sent]=tf_table\n",
    "        return tf_matrix"
   ]
  },
  {
   "cell_type": "code",
   "execution_count": 145,
   "id": "94f7b7ab",
   "metadata": {},
   "outputs": [
    {
     "data": {
      "text/plain": [
       "{'samir likes to ': {'samir': 0.14,\n",
       "  'like': 0.29,\n",
       "  'play': 0.14,\n",
       "  'cricket': 0.29,\n",
       "  'everyday': 0.14,\n",
       "  'becaus': 0.14,\n",
       "  'much': 0.14},\n",
       " 'ajay is going t': {'ajay': 0.25,\n",
       "  'home': 0.25,\n",
       "  'play': 0.25,\n",
       "  'cricket': 0.25}}"
      ]
     },
     "execution_count": 145,
     "metadata": {},
     "output_type": "execute_result"
    }
   ],
   "source": [
    "tf_matrix1=tf_matrix(freq_matrix)\n",
    "tf_matrix1"
   ]
  },
  {
   "cell_type": "code",
   "execution_count": 146,
   "id": "e1f4bc9b",
   "metadata": {},
   "outputs": [],
   "source": [
    "def doc_frequency(freq_matrix):\n",
    "    doc_table={}\n",
    "    for sent,tf_table in freq_matrix.items():\n",
    "        for word in tf_table.keys():\n",
    "            if word not in doc_table.keys():\n",
    "                doc_table[word]=1\n",
    "            else:\n",
    "                doc_table[word]+=1\n",
    "    return doc_table"
   ]
  },
  {
   "cell_type": "code",
   "execution_count": 147,
   "id": "868810e7",
   "metadata": {},
   "outputs": [
    {
     "data": {
      "text/plain": [
       "{'samir': 1,\n",
       " 'like': 1,\n",
       " 'play': 2,\n",
       " 'cricket': 2,\n",
       " 'everyday': 1,\n",
       " 'becaus': 1,\n",
       " 'much': 1,\n",
       " 'ajay': 1,\n",
       " 'home': 1}"
      ]
     },
     "execution_count": 147,
     "metadata": {},
     "output_type": "execute_result"
    }
   ],
   "source": [
    "doc_matrix= doc_frequency(freq_matrix)\n",
    "doc_matrix"
   ]
  },
  {
   "cell_type": "code",
   "execution_count": 148,
   "id": "1a1dd947",
   "metadata": {},
   "outputs": [],
   "source": [
    "def idf_matrix(freq_matrix,doc_per_word):\n",
    "    total_doc=len(freq_matrix.keys())\n",
    "    tf_matrix={}\n",
    "    for sent,tf_table in freq_matrix.items():\n",
    "        freq_table={}\n",
    "        for word in tf_table.keys():\n",
    "            freq_table[word]=round(math.log10(total_doc/doc_per_word[word]),2)\n",
    "        tf_matrix[sent]=freq_table\n",
    "    return tf_matrix"
   ]
  },
  {
   "cell_type": "code",
   "execution_count": 149,
   "id": "ec60daab",
   "metadata": {},
   "outputs": [
    {
     "data": {
      "text/plain": [
       "{'samir likes to ': {'samir': 0.3,\n",
       "  'like': 0.3,\n",
       "  'play': 0.0,\n",
       "  'cricket': 0.0,\n",
       "  'everyday': 0.3,\n",
       "  'becaus': 0.3,\n",
       "  'much': 0.3},\n",
       " 'ajay is going t': {'ajay': 0.3, 'home': 0.3, 'play': 0.0, 'cricket': 0.0}}"
      ]
     },
     "execution_count": 149,
     "metadata": {},
     "output_type": "execute_result"
    }
   ],
   "source": [
    "idf1_matrix=idf_matrix(freq_matrix,doc_matrix)\n",
    "idf1_matrix"
   ]
  },
  {
   "cell_type": "code",
   "execution_count": 150,
   "id": "e484b1b3",
   "metadata": {},
   "outputs": [],
   "source": [
    "def tf_idf_matrix(tf_matrix,idf_matrix):\n",
    "    tf_idf_matrix={}\n",
    "    for (sent1,ft_table1),(sent2,ft_table2) in zip(tf_matrix.items(),idf_matrix.items()):\n",
    "        freq_table={}\n",
    "        for(word1,value1),(word2,value2) in zip(ft_table1.items(),ft_table2.items()):\n",
    "            freq_table[word1]=round(value1*value2,2)\n",
    "        tf_idf_matrix[sent1]=freq_table\n",
    "    return tf_idf_matrix"
   ]
  },
  {
   "cell_type": "code",
   "execution_count": 151,
   "id": "f8d8255d",
   "metadata": {},
   "outputs": [
    {
     "data": {
      "text/plain": [
       "{'samir likes to ': {'samir': 0.04,\n",
       "  'like': 0.09,\n",
       "  'play': 0.0,\n",
       "  'cricket': 0.0,\n",
       "  'everyday': 0.04,\n",
       "  'becaus': 0.04,\n",
       "  'much': 0.04},\n",
       " 'ajay is going t': {'ajay': 0.07, 'home': 0.07, 'play': 0.0, 'cricket': 0.0}}"
      ]
     },
     "execution_count": 151,
     "metadata": {},
     "output_type": "execute_result"
    }
   ],
   "source": [
    "tf_idf_matrix1=tf_idf_matrix(tf_matrix1,idf1_matrix)\n",
    "tf_idf_matrix1"
   ]
  },
  {
   "cell_type": "code",
   "execution_count": 152,
   "id": "5fb37121",
   "metadata": {},
   "outputs": [],
   "source": [
    "def score_sentence(tf_idf_matrix):\n",
    "    sent_score={}\n",
    "    for sent,ft_table in tf_idf_matrix.items():\n",
    "        for word,value in ft_table.items():\n",
    "            if sent not in sent_score.keys():\n",
    "                sent_score[sent]=value\n",
    "            else:\n",
    "                sent_score[sent]+=value\n",
    "    return sent_score"
   ]
  },
  {
   "cell_type": "code",
   "execution_count": 153,
   "id": "f5eda03a",
   "metadata": {},
   "outputs": [
    {
     "data": {
      "text/plain": [
       "{'samir likes to ': 0.25, 'ajay is going t': 0.14}"
      ]
     },
     "execution_count": 153,
     "metadata": {},
     "output_type": "execute_result"
    }
   ],
   "source": [
    "sent_score=score_sentence(tf_idf_matrix1)\n",
    "sent_score"
   ]
  },
  {
   "cell_type": "code",
   "execution_count": 154,
   "id": "300a6d6a",
   "metadata": {},
   "outputs": [],
   "source": [
    "def average_score(sent_score):\n",
    "    sum_sent=0\n",
    "    for value in sent_score.values():\n",
    "        sum_sent+=value\n",
    "    avg_score=round(sum_sent/len(sent_score),2)\n",
    "    return avg_score"
   ]
  },
  {
   "cell_type": "code",
   "execution_count": 155,
   "id": "df0850a4",
   "metadata": {},
   "outputs": [],
   "source": [
    "def get_summary(sentences,sentence_score,threshold):\n",
    "    summary=\"\"\n",
    "    for sent in sentences:\n",
    "        if(sent[:15] in sentence_score) and sentence_score[sent[:15]]>=threshold:\n",
    "            summary+=\" \"+sent\n",
    "    return summary"
   ]
  },
  {
   "cell_type": "code",
   "execution_count": 156,
   "id": "ba32fc4b",
   "metadata": {},
   "outputs": [],
   "source": [
    "def lets_summarize(text):\n",
    "    sentences=sent_tokenize(text)\n",
    "    freq_matrix=frequency_matrix(text)\n",
    "    tf_matrix1=tf_matrix(freq_matrix)\n",
    "    doc_matrix=doc_frequency(freq_matrix)\n",
    "    idf1_matrix=idf_matrix(freq_matrix,doc_matrix)\n",
    "    tf_idf_matrix1=tf_idf_matrix(tf_matrix1,idf1_matrix)\n",
    "    sent_score=score_sentence(tf_idf_matrix1)\n",
    "    threshold=average_score(sent_score)\n",
    "    summary=get_summary(sentences,sent_score,1.15*threshold)\n",
    "    return summary"
   ]
  },
  {
   "cell_type": "code",
   "execution_count": 157,
   "id": "e0a516ec",
   "metadata": {},
   "outputs": [
    {
     "data": {
      "text/plain": [
       "' Artificial intelligence (AI), sometimes called machine intelligence, is intelligence demonstrated by machines, unlike the natural intelligence displayed by humans and animals. A quip in Tesler\\'s Theorem says \"AI is whatever hasn\\'t been done yet.\" Artificial intelligence was founded as an academic discipline in 1955, and in the years since has experienced several waves of optimism, followed by disappointment and the loss of funding (known as an \"AI winter\"), followed by new approaches, success and renewed funding.'"
      ]
     },
     "execution_count": 157,
     "metadata": {},
     "output_type": "execute_result"
    }
   ],
   "source": [
    "lets_summarize(text1)"
   ]
  },
  {
   "cell_type": "code",
   "execution_count": null,
   "id": "3076ae62",
   "metadata": {},
   "outputs": [],
   "source": []
  },
  {
   "cell_type": "code",
   "execution_count": null,
   "id": "1733a2bf",
   "metadata": {},
   "outputs": [],
   "source": []
  },
  {
   "cell_type": "code",
   "execution_count": null,
   "id": "bea845da",
   "metadata": {},
   "outputs": [],
   "source": []
  },
  {
   "cell_type": "code",
   "execution_count": null,
   "id": "d72ee77b",
   "metadata": {},
   "outputs": [],
   "source": []
  },
  {
   "cell_type": "code",
   "execution_count": null,
   "id": "0482926b",
   "metadata": {},
   "outputs": [],
   "source": []
  },
  {
   "cell_type": "code",
   "execution_count": null,
   "id": "953d0a95",
   "metadata": {},
   "outputs": [],
   "source": []
  },
  {
   "cell_type": "code",
   "execution_count": null,
   "id": "50181fb0",
   "metadata": {},
   "outputs": [],
   "source": []
  },
  {
   "cell_type": "code",
   "execution_count": null,
   "id": "3d20078e",
   "metadata": {},
   "outputs": [],
   "source": []
  }
 ],
 "metadata": {
  "kernelspec": {
   "display_name": "Python 3 (ipykernel)",
   "language": "python",
   "name": "python3"
  },
  "language_info": {
   "codemirror_mode": {
    "name": "ipython",
    "version": 3
   },
   "file_extension": ".py",
   "mimetype": "text/x-python",
   "name": "python",
   "nbconvert_exporter": "python",
   "pygments_lexer": "ipython3",
   "version": "3.11.0"
  }
 },
 "nbformat": 4,
 "nbformat_minor": 5
}
